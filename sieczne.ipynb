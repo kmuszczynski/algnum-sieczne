{
 "cells": [
  {
   "cell_type": "code",
   "execution_count": 10,
   "metadata": {},
   "outputs": [
    {
     "data": {
      "text/plain": [
       "0"
      ]
     },
     "execution_count": 10,
     "metadata": {},
     "output_type": "execute_result"
    }
   ],
   "source": [
    "import math\n",
    "\n",
    "def f(x):\n",
    "    return x**3 + 3 * x**2 - 3*x - 9\n",
    "\n",
    "def xk(raz, dwa):\n",
    "    r = raz - (f(raz)*(raz - dwa)) / (f(raz) - f(dwa))\n",
    "    return r\n",
    "\n",
    "\n",
    "    \n",
    "f(-3)"
   ]
  },
  {
   "cell_type": "code",
   "execution_count": 3,
   "metadata": {},
   "outputs": [
    {
     "name": "stdout",
     "output_type": "stream",
     "text": [
      "30\n"
     ]
    }
   ],
   "source": [
    "z = 10\n",
    "i = 0\n",
    "while z > 0.00000001:\n",
    "    z = z/2\n",
    "    i = i+1\n",
    "print(i)"
   ]
  },
  {
   "cell_type": "code",
   "execution_count": 21,
   "metadata": {},
   "outputs": [
    {
     "name": "stdout",
     "output_type": "stream",
     "text": [
      "S: 15999  SR: 3603  B: 6882  BZ: 12720  SP: 6882  SPZ: 12720\n",
      "s_średnia: 54.82 (44.74)  b_średnia: 34.84  sp_średnia: 32.46\n"
     ]
    }
   ],
   "source": [
    "import math\n",
    "\n",
    "class Wynik:\n",
    "    def __init__(self, typ, x=None, y=None, fx=None, fy=None, ttk=None):\n",
    "        self.typ = typ\n",
    "        self.x = x\n",
    "        self.y = y\n",
    "        self.fx = fx\n",
    "        self.fy = fy\n",
    "        self.ttk = ttk\n",
    "        \n",
    "#     def __init__(self, typ):\n",
    "#         self.typ = typ\n",
    "\n",
    "def sieczne_krok(f, x, y):\n",
    "    return x - (f(x) * (x - y)) / (f(x) - f(y))\n",
    "\n",
    "\n",
    "def funkcja(x):\n",
    "    return math.log(x**2) - math.sin(x) - 2\n",
    "\n",
    "def sieczne(f, x, y, eps):\n",
    "    ttk = 64\n",
    "    while ttk > 0 and abs(x-y) > eps:\n",
    "        temp = sieczne_krok(f, x, y)\n",
    "        x = y\n",
    "        y = temp\n",
    "        ttk = ttk - 1\n",
    "#     print(\"Sieczne:\")\n",
    "#     print( \"x: {}   y: {}   f(x): {}   f(y): {}    ttk: {}\".format(x, y, f(x), f(y), ttk) )\n",
    "    return Wynik(\"sieczne\", x, y, f(x), f(y), ttk)\n",
    "    \n",
    "def który_mniejszy(x, y):\n",
    "    if x < y:\n",
    "        return x, y\n",
    "    else:\n",
    "        return y, x\n",
    "    \n",
    "def różne_znaki(x, y):\n",
    "    if x * y < 0:\n",
    "        return True\n",
    "    else:\n",
    "        return False\n",
    "    \n",
    "def bisekcja(f, x, y, eps):\n",
    "    if not różne_znaki(f(x), f(y)):\n",
    "#         print(\"f(x) i f(y) mają ten sam znak - a to niedobrze\")\n",
    "        return Wynik(\"bisekcja - znak\")\n",
    "    x, y = który_mniejszy(x, y)\n",
    "    ttk = 64\n",
    "    while ttk > 0 and abs(x - y) > eps:\n",
    "        środek = (x + y) / 2\n",
    "        if f(środek) < 0:\n",
    "            x = środek\n",
    "        else:\n",
    "            y = środek\n",
    "        ttk = ttk - 1\n",
    "#     print(\"Bisekcja:\")\n",
    "#     print( \"x: {}   y: {}   f(x): {}   f(y): {}    ttk: {}\".format(x, y, f(x), f(y), ttk) )\n",
    "    return Wynik(\"bisekcja\", x, y, f(x), f(y), ttk)\n",
    "    \n",
    "def sieczne_plus(f, x, y, eps):\n",
    "    if not różne_znaki(f(x), f(y)):\n",
    "#         print(\"f(x) i f(y) mają ten sam znak - a to niedobrze\")\n",
    "        return Wynik(\"sieczne+ - znak\")\n",
    "    x, y = który_mniejszy(x, y)\n",
    "    ttk = 64\n",
    "    while ttk > 0 and abs(x - y) > eps:\n",
    "        kolejny = sieczne_krok(f, x, y) \n",
    "        if f(kolejny) < 0:\n",
    "            x = kolejny\n",
    "        else:\n",
    "            y = kolejny\n",
    "        ttk = ttk - 1\n",
    "#     print(\"Sieczne z plusem:\")\n",
    "#     print( \"x: {}   y: {}   f(x): {}   f(y): {}    ttk: {}\".format(x, y, f(x), f(y), ttk) )\n",
    "    return Wynik(\"sieczne+\", x, y, f(x), f(y), ttk)\n",
    "    \n",
    "\n",
    "e=0.00000001\n",
    "wyniki = []\n",
    "r = [x * 0.1 for x in range (-100,100)]\n",
    "for i in r:\n",
    "    for j in r:\n",
    "        # i nie może być równe j, co więcej przedział nie może zawierać 0 (funkcja nie jest ciągła w 0)\n",
    "        if i != j and i*j > 0:              \n",
    "            wyniki.append(sieczne(funkcja,i,j,e))\n",
    "            wyniki.append(bisekcja(funkcja,i,j,e))\n",
    "            wyniki.append(sieczne_plus(funkcja,i,j,e))\n",
    "            \n",
    "sieczne_zbieżne = 0\n",
    "sieczne_rozbieżne = 0\n",
    "bisekcja_zbieżne = 0\n",
    "bisekcja_znak = 0\n",
    "sieczne_plus_zbieżne = 0\n",
    "sieczne_plus_znak = 0\n",
    "\n",
    "s_suma_ttk = 0\n",
    "b_suma_ttk = 0\n",
    "sp_suma_ttk = 0\n",
    "            \n",
    "for j in wyniki:\n",
    "    i = j.typ\n",
    "    if i == \"sieczne\":\n",
    "        if j.ttk > 0:\n",
    "            sieczne_zbieżne += 1\n",
    "            s_suma_ttk += j.ttk\n",
    "        else:\n",
    "            sieczne_rozbieżne += 1\n",
    "    if i == \"bisekcja\":\n",
    "        bisekcja_zbieżne += 1\n",
    "        b_suma_ttk += j.ttk\n",
    "    if i == \"bisekcja - znak\":\n",
    "        bisekcja_znak += 1\n",
    "    if i == \"sieczne+\":\n",
    "        sieczne_plus_zbieżne += 1\n",
    "        sp_suma_ttk += j.ttk\n",
    "    if i == \"sieczne+ - znak\":\n",
    "        sieczne_plus_znak += 1\n",
    "        \n",
    "print( \"S: {}  SR: {}  B: {}  BZ: {}  SP: {}  SPZ: {}\".format(sieczne_zbieżne, sieczne_rozbieżne, bisekcja_zbieżne, bisekcja_znak, sieczne_plus_zbieżne, sieczne_plus_znak) )\n",
    "s_średnia_ttk = s_suma_ttk / sieczne_zbieżne\n",
    "sss = s_suma_ttk / (sieczne_zbieżne + sieczne_rozbieżne)\n",
    "b_średnia_ttk = b_suma_ttk / bisekcja_zbieżne\n",
    "sp_średnia_ttk = sp_suma_ttk / sieczne_plus_zbieżne\n",
    "print( \"s_średnia: {:=4.2f} ({:=4.2f})  b_średnia: {:=4.2f}  sp_średnia: {:=4.2f}\".format(s_średnia_ttk, sss, b_średnia_ttk, sp_średnia_ttk) )"
   ]
  },
  {
   "cell_type": "code",
   "execution_count": 1,
   "metadata": {},
   "outputs": [
    {
     "output_type": "stream",
     "name": "stdout",
     "text": [
      "Siema testuje czy to wejdzie do kodu głównego!\n"
     ]
    }
   ],
   "source": [
    "print(\"Siema testuje czy to wejdzie do kodu głównego!\")"
   ]
  },
  {
   "cell_type": "code",
   "execution_count": null,
   "metadata": {},
   "outputs": [],
   "source": []
  }
 ],
 "metadata": {
  "kernelspec": {
   "name": "python394jvsc74a57bd08192c148f3b6cf4afb9f2dd5881b1d86cf6d8d9ccf5093b2cb0c37023191eeab",
   "display_name": "Python 3.9.4 64-bit"
  },
  "language_info": {
   "codemirror_mode": {
    "name": "ipython",
    "version": 3
   },
   "file_extension": ".py",
   "mimetype": "text/x-python",
   "name": "python",
   "nbconvert_exporter": "python",
   "pygments_lexer": "ipython3",
   "version": "3.9.4"
  },
  "metadata": {
   "interpreter": {
    "hash": "8192c148f3b6cf4afb9f2dd5881b1d86cf6d8d9ccf5093b2cb0c37023191eeab"
   }
  }
 },
 "nbformat": 4,
 "nbformat_minor": 4
}