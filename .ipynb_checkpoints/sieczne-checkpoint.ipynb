{
 "cells": [
  {
   "cell_type": "code",
   "execution_count": 10,
   "metadata": {},
   "outputs": [
    {
     "data": {
      "text/plain": [
       "0"
      ]
     },
     "execution_count": 10,
     "metadata": {},
     "output_type": "execute_result"
    }
   ],
   "source": [
    "import math\n",
    "\n",
    "def f(x):\n",
    "    return x**3 + 3 * x**2 - 3*x - 9\n",
    "\n",
    "def xk(raz, dwa):\n",
    "    r = raz - (f(raz)*(raz - dwa)) / (f(raz) - f(dwa))\n",
    "    return r\n",
    "\n",
    "\n",
    "    \n",
    "f(-3)"
   ]
  },
  {
   "cell_type": "code",
   "execution_count": 3,
   "metadata": {},
   "outputs": [
    {
     "name": "stdout",
     "output_type": "stream",
     "text": [
      "30\n"
     ]
    }
   ],
   "source": [
    "z = 10\n",
    "i = 0\n",
    "while z > 0.00000001:\n",
    "    z = z/2\n",
    "    i = i+1\n",
    "print(i)"
   ]
  },
  {
   "cell_type": "code",
   "execution_count": 12,
   "metadata": {},
   "outputs": [
    {
     "name": "stdout",
     "output_type": "stream",
     "text": [
      "Sieczne:\n",
      "x: 2.9661609693636586   y: 2.9661586696541136   f(x): 3.815278358576535e-06   f(y): 2.359494821746466e-10    ttk: 60\n",
      "Bisekcja:\n",
      "x: 2.9658203125   y: 2.966796875   f(x): -0.0005613114649125617   f(y): 0.0010587233906900195    ttk: 53\n",
      "Sieczne z plusem:\n",
      "x: 2.966158669511883   y: 2.9661586695118833   f(x): -6.661338147750939e-16   f(y): 4.440892098500626e-16    ttk: 57\n"
     ]
    }
   ],
   "source": [
    "import math\n",
    "\n",
    "def sieczne_krok(f, x, y):\n",
    "    return x - (f(x) * (x - y)) / (f(x) - f(y))\n",
    "\n",
    "\n",
    "def funkcja(x):\n",
    "    return math.log(x**2) - math.sin(x) - 2\n",
    "\n",
    "def sieczne(f, x, y, eps):\n",
    "    if x == 0 or y == 0 or x==y:\n",
    "        print(\"Jedna z krawędzi przedziału znajduje się poza dziedziną\")\n",
    "        return\n",
    "    ttk = 64\n",
    "    while ttk > 0 and abs(x-y) > eps:\n",
    "        temp = sieczne_krok(f, x, y)\n",
    "        x = y\n",
    "        y = temp\n",
    "        ttk = ttk - 1\n",
    "    print(\"Sieczne:\")\n",
    "    print( \"x: {}   y: {}   f(x): {}   f(y): {}    ttk: {}\".format(x, y, f(x), f(y), ttk) )\n",
    "    \n",
    "def który_mniejszy(x, y):\n",
    "    if x < y:\n",
    "        return x, y\n",
    "    else:\n",
    "        return y, x\n",
    "    \n",
    "def różne_znaki(x, y):\n",
    "    if x * y < 0:\n",
    "        return True\n",
    "    else:\n",
    "        return False\n",
    "    \n",
    "def bisekcja(f, x, y, eps):\n",
    "    if not różne_znaki(f(x), f(y)):\n",
    "        print(\"f(x) i f(y) mają ten sam znak - a to niedobrze\")\n",
    "        return\n",
    "    x, y = który_mniejszy(x, y)\n",
    "    ttk = 64\n",
    "    while ttk > 0 and abs(x - y) > eps:\n",
    "        środek = (x + y) / 2 \n",
    "        if f(środek) < 0:\n",
    "            x = środek\n",
    "        else:\n",
    "            y = środek\n",
    "        ttk = ttk - 1\n",
    "    print(\"Bisekcja:\")\n",
    "    print( \"x: {}   y: {}   f(x): {}   f(y): {}    ttk: {}\".format(x, y, f(x), f(y), ttk) )\n",
    "    \n",
    "def sieczne_plus(f, x, y, eps):\n",
    "    if not różne_znaki(f(x), f(y)):\n",
    "        print(\"f(x) i f(y) mają ten sam znak - a to niedobrze\")\n",
    "        return\n",
    "    x, y = który_mniejszy(x, y)\n",
    "    ttk = 64\n",
    "    while ttk > 0 and abs(x - y) > eps:\n",
    "        kolejny = sieczne_krok(f, x, y) \n",
    "        if f(kolejny) < 0:\n",
    "            x = kolejny\n",
    "        else:\n",
    "            y = kolejny\n",
    "        ttk = ttk - 1\n",
    "    print(\"Sieczne z plusem:\")\n",
    "    print( \"x: {}   y: {}   f(x): {}   f(y): {}    ttk: {}\".format(x, y, f(x), f(y), ttk) )\n",
    "    \n",
    "    \n",
    "\n",
    "sieczne(funkcja,2,4,e)\n",
    "bisekcja(funkcja,2,4,e)\n",
    "sieczne_plus(funkcja,2,4,e)"
   ]
  },
  {
   "cell_type": "code",
   "execution_count": null,
   "metadata": {},
   "outputs": [],
   "source": []
  }
 ],
 "metadata": {
  "kernelspec": {
   "display_name": "Python 3",
   "language": "python",
   "name": "python3"
  },
  "language_info": {
   "codemirror_mode": {
    "name": "ipython",
    "version": 3
   },
   "file_extension": ".py",
   "mimetype": "text/x-python",
   "name": "python",
   "nbconvert_exporter": "python",
   "pygments_lexer": "ipython3",
   "version": "3.8.5"
  }
 },
 "nbformat": 4,
 "nbformat_minor": 4
}
